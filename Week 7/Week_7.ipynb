{
 "cells": [
  {
   "cell_type": "code",
   "execution_count": 6,
   "id": "4e4d4271-6826-4c76-895d-3fa57ac8b02b",
   "metadata": {},
   "outputs": [
    {
     "name": "stdout",
     "output_type": "stream",
     "text": [
      "Enter the following features:\n"
     ]
    },
    {
     "name": "stdin",
     "output_type": "stream",
     "text": [
      "mean radius:  2.5\n",
      "mean texture:  6.2\n",
      "mean perimeter:  55.3\n",
      "mean area:  100\n",
      "mean smoothness:  0.1\n"
     ]
    },
    {
     "name": "stdout",
     "output_type": "stream",
     "text": [
      "\n",
      "Prediction: Benign\n",
      "Confidence: 77.0 %\n"
     ]
    }
   ],
   "source": [
    "import pandas as pd\n",
    "import numpy as np\n",
    "from sklearn.datasets import load_breast_cancer\n",
    "from sklearn.model_selection import train_test_split\n",
    "from sklearn.ensemble import RandomForestClassifier\n",
    "\n",
    "# Load dataset\n",
    "data = load_breast_cancer()\n",
    "X = pd.DataFrame(data.data, columns=data.feature_names)\n",
    "y = pd.Series(data.target)\n",
    "\n",
    "# Train-test split\n",
    "X_train, X_test, y_train, y_test = train_test_split(X, y, test_size=0.2, random_state=42)\n",
    "\n",
    "# Train model\n",
    "model = RandomForestClassifier()\n",
    "model.fit(X_train, y_train)\n",
    "\n",
    "# -------- User Input Section --------\n",
    "# Select a few important features to keep it simple\n",
    "input_features = ['mean radius', 'mean texture', 'mean perimeter', 'mean area', 'mean smoothness']\n",
    "sample_input = {}\n",
    "\n",
    "print(\"Enter the following features:\")\n",
    "\n",
    "for feature in input_features:\n",
    "    while True:\n",
    "        try:\n",
    "            value = float(input(f\"{feature}: \"))\n",
    "            sample_input[feature] = value\n",
    "            break\n",
    "        except ValueError:\n",
    "            print(\"Please enter a valid number.\")\n",
    "\n",
    "# Fill rest of features with mean values\n",
    "for col in X.columns:\n",
    "    if col not in sample_input:\n",
    "        sample_input[col] = X[col].mean()\n",
    "\n",
    "# Convert to DataFrame\n",
    "input_df = pd.DataFrame([sample_input])\n",
    "\n",
    "# Make prediction\n",
    "prediction = model.predict(input_df)[0]\n",
    "confidence = model.predict_proba(input_df)[0].max()\n",
    "\n",
    "# Show result\n",
    "print(\"\\nPrediction:\", \"Malignant\" if prediction == 0 else \"Benign\")\n",
    "print(\"Confidence:\", round(confidence * 100, 2), \"%\")\n"
   ]
  },
  {
   "cell_type": "code",
   "execution_count": null,
   "id": "6e3c9631-597e-4ff9-8f7b-b4a0ca7b1934",
   "metadata": {},
   "outputs": [],
   "source": []
  }
 ],
 "metadata": {
  "kernelspec": {
   "display_name": "Python 3 (ipykernel)",
   "language": "python",
   "name": "python3"
  },
  "language_info": {
   "codemirror_mode": {
    "name": "ipython",
    "version": 3
   },
   "file_extension": ".py",
   "mimetype": "text/x-python",
   "name": "python",
   "nbconvert_exporter": "python",
   "pygments_lexer": "ipython3",
   "version": "3.13.4"
  }
 },
 "nbformat": 4,
 "nbformat_minor": 5
}
